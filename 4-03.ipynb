{
 "metadata": {
  "language_info": {
   "codemirror_mode": {
    "name": "ipython",
    "version": 3
   },
   "file_extension": ".py",
   "mimetype": "text/x-python",
   "name": "python",
   "nbconvert_exporter": "python",
   "pygments_lexer": "ipython3",
   "version": 3
  },
  "orig_nbformat": 2,
  "kernelspec": {
   "name": "python_defaultSpec_1597236689913",
   "display_name": "Python 3.8.2 32-bit"
  }
 },
 "nbformat": 4,
 "nbformat_minor": 2,
 "cells": [
  {
   "cell_type": "code",
   "execution_count": 2,
   "metadata": {},
   "outputs": [],
   "source": [
    "def show_args(*args):\n",
    "    print('Positional arguments:', args)\n",
    "    return args"
   ]
  },
  {
   "cell_type": "code",
   "execution_count": 4,
   "metadata": {
    "tags": []
   },
   "outputs": [
    {
     "output_type": "stream",
     "name": "stdout",
     "text": "Positional arguments: (1, 2, 3, 'da!')\n"
    },
    {
     "output_type": "execute_result",
     "data": {
      "text/plain": "(1, 2, 3, 'da!')"
     },
     "metadata": {},
     "execution_count": 4
    }
   ],
   "source": [
    "show_args(1,2,3,'da!')"
   ]
  },
  {
   "cell_type": "code",
   "execution_count": 15,
   "metadata": {},
   "outputs": [],
   "source": [
    "def show_kwargs(**kwargs):\n",
    "    print('Keyword arguments:', kwargs)\n",
    "    return kwargs"
   ]
  },
  {
   "cell_type": "code",
   "execution_count": 16,
   "metadata": {
    "tags": []
   },
   "outputs": [
    {
     "output_type": "stream",
     "name": "stdout",
     "text": "Keyword arguments: {'pasta': 'ペンネ', 'drink': '赤ワイン', 'main_dish': '肉料理', 'n_customers': 3}\n"
    },
    {
     "output_type": "execute_result",
     "data": {
      "text/plain": "{'pasta': 'ペンネ', 'drink': '赤ワイン', 'main_dish': '肉料理', 'n_customers': 3}"
     },
     "metadata": {},
     "execution_count": 16
    }
   ],
   "source": [
    "show_kwargs(pasta='ペンネ',drink='赤ワイン',main_dish='肉料理',n_customers=3)"
   ]
  },
  {
   "cell_type": "code",
   "execution_count": 11,
   "metadata": {
    "tags": []
   },
   "outputs": [
    {
     "output_type": "stream",
     "name": "stdout",
     "text": "Positional arguments: (4, 5, 6, 'ya')\n"
    },
    {
     "output_type": "execute_result",
     "data": {
      "text/plain": "(4, 5, 6, 'ya')"
     },
     "metadata": {},
     "execution_count": 11
    }
   ],
   "source": [
    "positional_args = (4,5,6,'ya')\n",
    "show_args(*positional_args)"
   ]
  },
  {
   "cell_type": "code",
   "execution_count": 13,
   "metadata": {
    "tags": []
   },
   "outputs": [
    {
     "output_type": "stream",
     "name": "stdout",
     "text": "Positional arguments: (4, 5, 6, 'ya')\n"
    },
    {
     "output_type": "execute_result",
     "data": {
      "text/plain": "(4, 5, 6, 'ya')"
     },
     "metadata": {},
     "execution_count": 13
    }
   ],
   "source": [
    "positional_args = [4,5,6,'ya']\n",
    "show_args(*positional_args)"
   ]
  },
  {
   "cell_type": "code",
   "execution_count": 18,
   "metadata": {
    "tags": []
   },
   "outputs": [
    {
     "output_type": "stream",
     "name": "stdout",
     "text": "Keyword arguments: {'pasta': 'ペンネ', 'drink': '赤ワイン', 'main_dish': '肉料理', 'n_customers': 3}\n"
    },
    {
     "output_type": "execute_result",
     "data": {
      "text/plain": "{'pasta': 'ペンネ', 'drink': '赤ワイン', 'main_dish': '肉料理', 'n_customers': 3}"
     },
     "metadata": {},
     "execution_count": 18
    }
   ],
   "source": [
    "keyword_args = {'pasta':'ペンネ','drink':'赤ワイン','main_dish':'肉料理','n_customers':3}\n",
    "show_kwargs(**keyword_args)"
   ]
  },
  {
   "cell_type": "code",
   "execution_count": 20,
   "metadata": {},
   "outputs": [
    {
     "output_type": "execute_result",
     "data": {
      "text/plain": "'a_b_c'"
     },
     "metadata": {},
     "execution_count": 20
    }
   ],
   "source": [
    "names = ('a','b','c')\n",
    "sep = '_'\n",
    "sep.join(names)"
   ]
  },
  {
   "cell_type": "code",
   "execution_count": 23,
   "metadata": {},
   "outputs": [],
   "source": [
    "def concat_words(*args,separator='.'):\n",
    "    return separator.join(args)"
   ]
  },
  {
   "cell_type": "code",
   "execution_count": 25,
   "metadata": {},
   "outputs": [
    {
     "output_type": "execute_result",
     "data": {
      "text/plain": "'a_b_c_d'"
     },
     "metadata": {},
     "execution_count": 25
    }
   ],
   "source": [
    "concat_words('a','b','c','d',separator='_')"
   ]
  },
  {
   "cell_type": "code",
   "execution_count": 27,
   "metadata": {},
   "outputs": [
    {
     "output_type": "execute_result",
     "data": {
      "text/plain": "'4_choume Minatoku Tokyo Japan'"
     },
     "metadata": {},
     "execution_count": 27
    }
   ],
   "source": [
    "concat_words('4_choume','Minatoku','Tokyo','Japan',separator=' ')"
   ]
  },
  {
   "cell_type": "code",
   "execution_count": 29,
   "metadata": {
    "tags": []
   },
   "outputs": [
    {
     "output_type": "stream",
     "name": "stdout",
     "text": "args: (1, 2, 3, 4)\nlen(args): 4\n"
    }
   ],
   "source": [
    "numbers = [1,2,3,4]\n",
    "def func_hint(*args):\n",
    "    print(\"args:\",args)\n",
    "    print(\"len(args):\",len(args))\n",
    "\n",
    "func_hint(*numbers)"
   ]
  },
  {
   "cell_type": "code",
   "execution_count": 31,
   "metadata": {
    "tags": []
   },
   "outputs": [
    {
     "output_type": "stream",
     "name": "stdout",
     "text": "[0, 1, 2, 3, 4, 5, 6, 7, 8, 9, 10, 11, 12, 13, 14, 15, 16, 17, 18, 19, 20, 21, 22, 23, 24, 25, 26, 27, 28, 29, 30, 31, 32, 33, 34, 35, 36, 37, 38, 39, 40, 41, 42, 43, 44, 45, 46, 47, 48, 49, 50, 51, 52, 53, 54, 55, 56, 57, 58, 59, 60, 61, 62, 63, 64, 65, 66, 67, 68, 69, 70, 71, 72, 73, 74, 75, 76, 77, 78, 79, 80, 81, 82, 83, 84, 85, 86, 87, 88, 89, 90, 91, 92, 93, 94, 95, 96, 97, 98, 99]\n"
    }
   ],
   "source": [
    "many_numbers = list(range(100))\n",
    "print(many_numbers)"
   ]
  },
  {
   "cell_type": "code",
   "execution_count": 33,
   "metadata": {},
   "outputs": [
    {
     "output_type": "execute_result",
     "data": {
      "text/plain": "[1, 4, 9, 16]"
     },
     "metadata": {},
     "execution_count": 33
    }
   ],
   "source": [
    "def func_square(*args):\n",
    "    results = []\n",
    "    for n in args:\n",
    "        results.append(n * n)\n",
    "    return results\n",
    "\n",
    "numbers = [1,2,3,4]\n",
    "func_square(*numbers)"
   ]
  },
  {
   "cell_type": "code",
   "execution_count": 35,
   "metadata": {
    "tags": []
   },
   "outputs": [
    {
     "output_type": "stream",
     "name": "stdout",
     "text": "[0, 1, 4, 9, 16, 25, 36, 49, 64, 81, 100, 121, 144, 169, 196, 225, 256, 289, 324, 361, 400, 441, 484, 529, 576, 625, 676, 729, 784, 841, 900, 961, 1024, 1089, 1156, 1225, 1296, 1369, 1444, 1521, 1600, 1681, 1764, 1849, 1936, 2025, 2116, 2209, 2304, 2401, 2500, 2601, 2704, 2809, 2916, 3025, 3136, 3249, 3364, 3481, 3600, 3721, 3844, 3969, 4096, 4225, 4356, 4489, 4624, 4761, 4900, 5041, 5184, 5329, 5476, 5625, 5776, 5929, 6084, 6241, 6400, 6561, 6724, 6889, 7056, 7225, 7396, 7569, 7744, 7921, 8100, 8281, 8464, 8649, 8836, 9025, 9216, 9409, 9604, 9801]\n"
    }
   ],
   "source": [
    "many_numbers = list(range(100))\n",
    "print(func_square(*many_numbers))"
   ]
  },
  {
   "cell_type": "code",
   "execution_count": 37,
   "metadata": {
    "tags": []
   },
   "outputs": [
    {
     "output_type": "stream",
     "name": "stdout",
     "text": "animal: cat\n"
    },
    {
     "output_type": "execute_result",
     "data": {
      "text/plain": "<function __main__.my_func()>"
     },
     "metadata": {},
     "execution_count": 37
    }
   ],
   "source": [
    "animal = 'cat'\n",
    "print(\"animal:\",animal)\n",
    "\n",
    "def my_func():\n",
    "    vegetable = 'carrot'\n",
    "    print(\"animal in my_func:\",animal)\n",
    "    print(\"vegetable in_the_func:\", vegetable)\n",
    "\n",
    "my_func"
   ]
  },
  {
   "cell_type": "code",
   "execution_count": 39,
   "metadata": {},
   "outputs": [
    {
     "output_type": "error",
     "ename": "NameError",
     "evalue": "name 'vegetable' is not defined",
     "traceback": [
      "\u001b[1;31m---------------------------------------------------------------------------\u001b[0m",
      "\u001b[1;31mNameError\u001b[0m                                 Traceback (most recent call last)",
      "\u001b[1;32m<ipython-input-39-ecb8b2d0d4af>\u001b[0m in \u001b[0;36m<module>\u001b[1;34m\u001b[0m\n\u001b[1;32m----> 1\u001b[1;33m \u001b[0mprint\u001b[0m\u001b[1;33m(\u001b[0m\u001b[1;34m\"vegetable:\"\u001b[0m\u001b[1;33m,\u001b[0m \u001b[0mvegetable\u001b[0m\u001b[1;33m)\u001b[0m\u001b[1;33m\u001b[0m\u001b[1;33m\u001b[0m\u001b[0m\n\u001b[0m",
      "\u001b[1;31mNameError\u001b[0m: name 'vegetable' is not defined"
     ]
    }
   ],
   "source": [
    "print(\"vegetable:\", vegetable)"
   ]
  },
  {
   "cell_type": "code",
   "execution_count": 41,
   "metadata": {
    "tags": []
   },
   "outputs": [
    {
     "output_type": "stream",
     "name": "stdout",
     "text": "animal: cat\nanimal in my_func: dog\nanimal global after my_func: cat\n"
    }
   ],
   "source": [
    "animal = 'cat'\n",
    "print(\"animal:\",animal)\n",
    "\n",
    "def my_func():\n",
    "    animal = 'dog'\n",
    "    print(\"animal in my_func:\", animal)\n",
    "\n",
    "my_func()\n",
    "\n",
    "print(\"animal global after my_func:\", animal)"
   ]
  },
  {
   "cell_type": "code",
   "execution_count": 43,
   "metadata": {
    "tags": []
   },
   "outputs": [
    {
     "output_type": "stream",
     "name": "stdout",
     "text": "animal: cat\nanimal in my_func_alter: dog\nanimal global after my_func_alter: dog\n"
    }
   ],
   "source": [
    "animal = 'cat'\n",
    "print(\"animal:\",animal)\n",
    "\n",
    "def my_func_alter():\n",
    "    global animal\n",
    "    animal = 'dog'\n",
    "    print(\"animal in my_func_alter:\",animal)\n",
    "\n",
    "my_func_alter()\n",
    "\n",
    "print(\"animal global after my_func_alter:\",animal)"
   ]
  },
  {
   "cell_type": "code",
   "execution_count": 45,
   "metadata": {
    "tags": []
   },
   "outputs": [
    {
     "output_type": "stream",
     "name": "stdout",
     "text": "global_list in the func: ['tomato', 'spinach', 'pumpkin', 'potato', 'lettuce']\ninserted to the head\nglobal_list in the func: ['cabbage', 'tomato', 'spinach', 'pumpkin', 'potato', 'lettuce']\nglobal_list in the func: ['cabbage', 'tomato', 'spinach', 'pumpkin', 'potato', 'lettuce']\ninserted to the head\nglobal_list in the func: ['eggplant', 'cabbage', 'tomato', 'spinach', 'pumpkin', 'potato', 'lettuce']\nglobal_list: ['eggplant', 'cabbage', 'tomato', 'spinach', 'pumpkin', 'potato', 'lettuce']\n"
    }
   ],
   "source": [
    "global_list = ['tomato','spinach','pumpkin','potato','lettuce']\n",
    "\n",
    "def add_to_head(vegetable):\n",
    "    print(\"global_list in the func:\", global_list)\n",
    "    global_list.insert(0,vegetable)\n",
    "    print(\"inserted to the head\")\n",
    "    print(\"global_list in the func:\",global_list)\n",
    "\n",
    "add_to_head('cabbage')\n",
    "add_to_head('eggplant')\n",
    "\n",
    "print(\"global_list:\",global_list)"
   ]
  },
  {
   "cell_type": "code",
   "execution_count": 48,
   "metadata": {},
   "outputs": [],
   "source": [
    "vote_num = 0\n",
    "def vote():\n",
    "    print(\"投票します\")\n",
    "    global vote_num\n",
    "    vote_num += 1\n",
    "\n",
    "def reset_box():\n",
    "    global vote_num\n",
    "    print(\"箱を空にします\")\n",
    "    vote_num = 0\n",
    "\n",
    "def check_box():\n",
    "    global vote_num\n",
    "    print(\"票の数は{}です\".format(vote_num))"
   ]
  },
  {
   "cell_type": "code",
   "execution_count": 50,
   "metadata": {
    "tags": []
   },
   "outputs": [
    {
     "output_type": "stream",
     "name": "stdout",
     "text": "投票します\n票の数は6です\n投票します\n票の数は7です\n投票します\n投票します\n投票します\n票の数は10です\n票の数は10です\n票の数は10です\n"
    }
   ],
   "source": [
    "vote()\n",
    "check_box()\n",
    "vote()\n",
    "check_box()\n",
    "for i in range(3):\n",
    "    vote()\n",
    "check_box()\n",
    "check_box()\n",
    "check_box()"
   ]
  },
  {
   "cell_type": "code",
   "execution_count": 53,
   "metadata": {},
   "outputs": [],
   "source": [
    "vote_num = 0\n",
    "\n",
    "def vote(vote_n):\n",
    "    print(\"投票します\")\n",
    "    vote_n += 1\n",
    "    return vote_n\n",
    "\n",
    "def reset_box(vote_n):\n",
    "    print(\"箱を空にします\")\n",
    "    vote_n = 0\n",
    "    return vote_n\n",
    "\n",
    "def check_box(vote_n):\n",
    "    print(\"票の数は{}です\".format(vote_n))\n",
    "    return"
   ]
  },
  {
   "cell_type": "code",
   "execution_count": 54,
   "metadata": {},
   "outputs": [],
   "source": [
    "vote_box = []\n",
    "label = \"票\"\n",
    "def vote():\n",
    "    print(\"投票します\")\n",
    "    vote_box.append(label)\n",
    "\n",
    "def reset_box():\n",
    "    print(\"箱を空にします\")\n",
    "    vote_box.clear()\n",
    "\n",
    "def check_box():\n",
    "    print(\"票の数は{}です\".format(len(vote_box)),end=\" \")\n",
    "    print(\"vote_box:\",vote_box)"
   ]
  }
 ]
}