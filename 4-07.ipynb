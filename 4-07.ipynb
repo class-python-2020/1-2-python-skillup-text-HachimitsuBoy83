{
 "metadata": {
  "language_info": {
   "codemirror_mode": {
    "name": "ipython",
    "version": 3
   },
   "file_extension": ".py",
   "mimetype": "text/x-python",
   "name": "python",
   "nbconvert_exporter": "python",
   "pygments_lexer": "ipython3",
   "version": "3.8.2-final"
  },
  "orig_nbformat": 2,
  "kernelspec": {
   "name": "python_defaultSpec_1597328573482",
   "display_name": "Python 3.8.2 32-bit"
  }
 },
 "nbformat": 4,
 "nbformat_minor": 2,
 "cells": [
  {
   "cell_type": "code",
   "execution_count": 3,
   "metadata": {},
   "outputs": [],
   "source": [
    "def outer(a,b):\n",
    "    print('outer function (a,b) = ({},{})'.format(a,b))\n",
    "    def inner(c,d):\n",
    "        print('inner function (c,d) = ({},{})'.format(c,d))\n",
    "        return c * d\n",
    "    return inner(a, b)"
   ]
  },
  {
   "cell_type": "code",
   "execution_count": 5,
   "metadata": {
    "tags": []
   },
   "outputs": [
    {
     "output_type": "stream",
     "name": "stdout",
     "text": "outer function (a,b) = (4,7)\ninner function (c,d) = (4,7)\n28\n"
    }
   ],
   "source": [
    "a = outer(4,7)\n",
    "print(a)"
   ]
  },
  {
   "cell_type": "code",
   "execution_count": 7,
   "metadata": {},
   "outputs": [
    {
     "output_type": "execute_result",
     "data": {
      "text/plain": "\"We are the knights who say: 'Ni!'\""
     },
     "metadata": {},
     "execution_count": 7
    }
   ],
   "source": [
    "def knights(saying):\n",
    "    def inner(quote):\n",
    "        return \"We are the knights who say: '%s'\"% quote\n",
    "    return inner(saying)\n",
    "\n",
    "knights('Ni!')"
   ]
  },
  {
   "cell_type": "code",
   "execution_count": 10,
   "metadata": {},
   "outputs": [],
   "source": [
    "def make_circle_area_func(pi = 3.14):\n",
    "    def circle_area(radius):\n",
    "        return radius * radius * pi\n",
    "    return circle_area\n",
    "\n",
    "circle_area_default = make_circle_area_func()\n",
    "circle_area_precise = make_circle_area_func(pi = 3.1415926535)"
   ]
  },
  {
   "cell_type": "code",
   "execution_count": 12,
   "metadata": {},
   "outputs": [
    {
     "output_type": "execute_result",
     "data": {
      "text/plain": "(function, function)"
     },
     "metadata": {},
     "execution_count": 12
    }
   ],
   "source": [
    "type(circle_area_default),type(circle_area_precise)"
   ]
  },
  {
   "cell_type": "code",
   "execution_count": 14,
   "metadata": {
    "tags": []
   },
   "outputs": [
    {
     "output_type": "stream",
     "name": "stdout",
     "text": "12.56\n12.566370614\n"
    }
   ],
   "source": [
    "print(circle_area_default(2))\n",
    "print(circle_area_precise(2))"
   ]
  },
  {
   "cell_type": "code",
   "execution_count": 16,
   "metadata": {
    "tags": []
   },
   "outputs": [
    {
     "output_type": "stream",
     "name": "stdout",
     "text": "1\n2\n3\n"
    }
   ],
   "source": [
    "def makecounter():\n",
    "    n = 0\n",
    "    def count():\n",
    "        nonlocal n\n",
    "        n += 1\n",
    "        return n\n",
    "    return count\n",
    "\n",
    "counter = makecounter()\n",
    "print(counter())\n",
    "print(counter())\n",
    "print(counter())"
   ]
  },
  {
   "cell_type": "code",
   "execution_count": 20,
   "metadata": {
    "tags": []
   },
   "outputs": [
    {
     "output_type": "stream",
     "name": "stdout",
     "text": "==== flag: Red\nselection is 0 witch may be the default\n====\n==== flag: Blue\nYour choise is 1\n====\n"
    }
   ],
   "source": [
    "def show_message(num=0):\n",
    "    if num == 0:\n",
    "        flag = \"Red\"\n",
    "        print(\"==== flag:\",flag)\n",
    "        print(\"selection is\",num,\"witch may be the default\")\n",
    "        print(\"====\")\n",
    "    else:\n",
    "        flag = \"Blue\"\n",
    "        print(\"==== flag:\",flag)\n",
    "        print(\"Your choise is\",num)\n",
    "        print(\"====\")\n",
    "\n",
    "show_message(0)\n",
    "show_message(1)"
   ]
  },
  {
   "cell_type": "code",
   "execution_count": 22,
   "metadata": {
    "tags": []
   },
   "outputs": [
    {
     "output_type": "stream",
     "name": "stdout",
     "text": "==== flag: Red\nSelection is  0 witch may be the default\n====\n==== flag: Blue\nYour choice is  1\n====\n"
    }
   ],
   "source": [
    "def show_message(num=0):\n",
    "    def decolate(func):\n",
    "        if num == 0:\n",
    "            flag = \"Red\"\n",
    "        else:\n",
    "            flag = \"Blue\"\n",
    "\n",
    "        print(\"==== flag:\",flag)\n",
    "        func()\n",
    "        print(\"====\")\n",
    "\n",
    "    def show_selection(num=num):\n",
    "        if num == 0:\n",
    "            print(\"Selection is \", num,\"witch may be the default\")\n",
    "        else:\n",
    "            print(\"Your choice is \",num)\n",
    "\n",
    "    decolate(show_selection)\n",
    "\n",
    "show_message(0)\n",
    "show_message(1)"
   ]
  },
  {
   "cell_type": "code",
   "execution_count": 24,
   "metadata": {},
   "outputs": [],
   "source": [
    "def make_addfunc():\n",
    "    def add(x,y):\n",
    "        return x + y\n",
    "    return add"
   ]
  },
  {
   "cell_type": "code",
   "execution_count": 26,
   "metadata": {
    "tags": []
   },
   "outputs": [
    {
     "output_type": "stream",
     "name": "stdout",
     "text": "11\n"
    }
   ],
   "source": [
    "adder = make_addfunc()\n",
    "answer = adder(1,10)\n",
    "print(answer)"
   ]
  },
  {
   "cell_type": "code",
   "execution_count": 28,
   "metadata": {},
   "outputs": [],
   "source": [
    "def make_addfunc():\n",
    "    print('足し算する関数を作成')\n",
    "    def add(x,y):\n",
    "        print('{} + {} = {}'.format(x,y,x + y))\n",
    "        return x + y\n",
    "    return add"
   ]
  },
  {
   "cell_type": "code",
   "execution_count": 30,
   "metadata": {
    "tags": []
   },
   "outputs": [
    {
     "output_type": "stream",
     "name": "stdout",
     "text": "足し算する関数を作成\n"
    }
   ],
   "source": [
    "adder = make_addfunc()"
   ]
  },
  {
   "cell_type": "code",
   "execution_count": 32,
   "metadata": {
    "tags": []
   },
   "outputs": [
    {
     "output_type": "stream",
     "name": "stdout",
     "text": "1 + 10 = 11\n"
    }
   ],
   "source": [
    "answer = adder(1,10)"
   ]
  },
  {
   "cell_type": "code",
   "execution_count": 34,
   "metadata": {
    "tags": []
   },
   "outputs": [
    {
     "output_type": "stream",
     "name": "stdout",
     "text": "11\n"
    }
   ],
   "source": [
    "print(answer)"
   ]
  },
  {
   "cell_type": "code",
   "execution_count": 36,
   "metadata": {},
   "outputs": [],
   "source": [
    "def show_how_it_works(func):\n",
    "    def my_function(*args, **kwargs):\n",
    "        print('Running function:',func.__name__)\n",
    "        print('Positional arguments:', args)\n",
    "        print('Keyword arguments:',kwargs)\n",
    "        result = func(*args, **kwargs)\n",
    "        print('Result:',result)\n",
    "        return result\n",
    "    return my_function"
   ]
  },
  {
   "cell_type": "code",
   "execution_count": 38,
   "metadata": {},
   "outputs": [
    {
     "output_type": "execute_result",
     "data": {
      "text/plain": "9"
     },
     "metadata": {},
     "execution_count": 38
    }
   ],
   "source": [
    "def add_two_numbers(a,b):\n",
    "    return a + b\n",
    "\n",
    "add_two_numbers(1,8)"
   ]
  },
  {
   "cell_type": "code",
   "execution_count": 40,
   "metadata": {
    "tags": []
   },
   "outputs": [
    {
     "output_type": "stream",
     "name": "stdout",
     "text": "Running function: add_two_numbers\nPositional arguments: (1, 8)\nKeyword arguments: {}\nResult: 9\n"
    },
    {
     "output_type": "execute_result",
     "data": {
      "text/plain": "9"
     },
     "metadata": {},
     "execution_count": 40
    }
   ],
   "source": [
    "decolated_func = show_how_it_works(add_two_numbers)\n",
    "decolated_func(1,8)"
   ]
  },
  {
   "cell_type": "code",
   "execution_count": 42,
   "metadata": {
    "tags": []
   },
   "outputs": [
    {
     "output_type": "stream",
     "name": "stdout",
     "text": "Running function: add_two_numbers\nPositional arguments: (1, 8)\nKeyword arguments: {}\nResult: 9\n"
    },
    {
     "output_type": "execute_result",
     "data": {
      "text/plain": "9"
     },
     "metadata": {},
     "execution_count": 42
    }
   ],
   "source": [
    "add_two_numbers = decolated_func\n",
    "add_two_numbers(1,8)"
   ]
  },
  {
   "cell_type": "code",
   "execution_count": 44,
   "metadata": {
    "tags": []
   },
   "outputs": [
    {
     "output_type": "stream",
     "name": "stdout",
     "text": "Running function: add_two_numbers\nPositional arguments: (1, 8)\nKeyword arguments: {}\nResult: 9\n"
    },
    {
     "output_type": "execute_result",
     "data": {
      "text/plain": "9"
     },
     "metadata": {},
     "execution_count": 44
    }
   ],
   "source": [
    "@show_how_it_works\n",
    "def add_two_nuber(a,b):\n",
    "    return a + b\n",
    "    \n",
    "add_two_numbers(1,8)"
   ]
  },
  {
   "cell_type": "code",
   "execution_count": 46,
   "metadata": {},
   "outputs": [],
   "source": [
    "def fib(n):\n",
    "    if n < 2:\n",
    "        return n\n",
    "    return fib(n-1) + fib(n-2)"
   ]
  },
  {
   "cell_type": "code",
   "execution_count": 50,
   "metadata": {
    "tags": []
   },
   "outputs": [
    {
     "output_type": "stream",
     "name": "stdout",
     "text": "Wall time: 1.03 ms\n"
    },
    {
     "output_type": "execute_result",
     "data": {
      "text/plain": "[0, 1, 1, 2, 3, 5, 8, 13, 21, 34, 55, 89, 144, 233, 377, 610]"
     },
     "metadata": {},
     "execution_count": 50
    }
   ],
   "source": [
    "%%time\n",
    "[fib(n) for n in range(16)]"
   ]
  },
  {
   "cell_type": "code",
   "execution_count": 52,
   "metadata": {},
   "outputs": [],
   "source": [
    "from functools import lru_cache\n",
    "\n",
    "@lru_cache(maxsize=None)\n",
    "def fib(n):\n",
    "    if n < 2:\n",
    "        return n\n",
    "    return fib(n-1) + fib(n-2)"
   ]
  },
  {
   "cell_type": "code",
   "execution_count": 54,
   "metadata": {
    "tags": []
   },
   "outputs": [
    {
     "output_type": "stream",
     "name": "stdout",
     "text": "Wall time: 0 ns\n"
    },
    {
     "output_type": "execute_result",
     "data": {
      "text/plain": "[0, 1, 1, 2, 3, 5, 8, 13, 21, 34, 55, 89, 144, 233, 377, 610]"
     },
     "metadata": {},
     "execution_count": 54
    }
   ],
   "source": [
    "%%time\n",
    "[fib(n) for n in range(16)]"
   ]
  },
  {
   "cell_type": "code",
   "execution_count": 56,
   "metadata": {},
   "outputs": [],
   "source": [
    "def show_begin_end(func):\n",
    "    def deco_func(*args,**kwargs):\n",
    "        print('== start')\n",
    "        result = func(*args,**kwargs)\n",
    "        print('== end')\n",
    "        return result\n",
    "    return deco_func"
   ]
  },
  {
   "cell_type": "code",
   "execution_count": 58,
   "metadata": {
    "tags": []
   },
   "outputs": [
    {
     "output_type": "stream",
     "name": "stdout",
     "text": "Sleeping ..\nDone Sleeping\n"
    }
   ],
   "source": [
    "import time\n",
    "\n",
    "def sleep_for_a_while():\n",
    "    print(\"Sleeping ..\")\n",
    "    time.sleep(2)\n",
    "    print(\"Done Sleeping\")\n",
    "\n",
    "sleep_for_a_while()"
   ]
  },
  {
   "cell_type": "code",
   "execution_count": 61,
   "metadata": {
    "tags": []
   },
   "outputs": [
    {
     "output_type": "stream",
     "name": "stdout",
     "text": "== start\nSleeping..\nDone Sleeping\n== end\n"
    }
   ],
   "source": [
    "@show_begin_end\n",
    "def sleep_for_a_while():\n",
    "    print(\"Sleeping..\")\n",
    "    time.sleep(2)\n",
    "    print(\"Done Sleeping\")\n",
    "\n",
    "sleep_for_a_while()"
   ]
  },
  {
   "cell_type": "code",
   "execution_count": 63,
   "metadata": {},
   "outputs": [],
   "source": [
    "from functools import wraps\n",
    "def show_begin_end(func):\n",
    "    @wraps(func)\n",
    "    def deco_func(*args,**kwargs):\n",
    "        print('== start')\n",
    "        result = func(*args,**kwargs)\n",
    "        print('== end')\n",
    "        return result\n",
    "    return deco_func\n",
    "\n",
    "@show_begin_end\n",
    "def sleep_for_a_while():\n",
    "    print(\"Sleeping..\")\n",
    "    time.sleep(2)\n",
    "    print(\"Done Sleeping\")"
   ]
  },
  {
   "cell_type": "code",
   "execution_count": 65,
   "metadata": {
    "tags": []
   },
   "outputs": [
    {
     "output_type": "stream",
     "name": "stdout",
     "text": "== start\nSleeping..\nDone Sleeping\n== end\n"
    }
   ],
   "source": [
    "sleep_for_a_while()"
   ]
  },
  {
   "cell_type": "code",
   "execution_count": 68,
   "metadata": {},
   "outputs": [],
   "source": [
    "sleep_for_a_while.__doc__"
   ]
  },
  {
   "cell_type": "code",
   "execution_count": 69,
   "metadata": {
    "tags": []
   },
   "outputs": [
    {
     "output_type": "stream",
     "name": "stdout",
     "text": "Help on function sleep_for_a_while in module __main__:\n\nsleep_for_a_while()\n\n"
    }
   ],
   "source": [
    "help(sleep_for_a_while)"
   ]
  }
 ]
}